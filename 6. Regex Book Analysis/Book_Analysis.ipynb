{
 "cells": [
  {
   "cell_type": "markdown",
   "id": "87b458e1-bac6-4391-afbb-ca849b2a1f9d",
   "metadata": {},
   "source": [
    "# Load the book"
   ]
  },
  {
   "cell_type": "code",
   "execution_count": 53,
   "id": "7bda00e8-b44e-4b91-8808-da7e3482f4e3",
   "metadata": {},
   "outputs": [],
   "source": [
    "with open(\"miracle_in_the_andes.txt\") as file:\n",
    "    book = file.read()"
   ]
  },
  {
   "cell_type": "code",
   "execution_count": 54,
   "id": "eca18657-3a0a-4126-865a-827738798fc2",
   "metadata": {},
   "outputs": [
    {
     "data": {
      "text/plain": [
       "str"
      ]
     },
     "execution_count": 54,
     "metadata": {},
     "output_type": "execute_result"
    }
   ],
   "source": [
    "type(book)"
   ]
  },
  {
   "cell_type": "markdown",
   "id": "59555a74-f09d-4edd-9bec-6cb6d22171df",
   "metadata": {},
   "source": [
    "# How many chapters?"
   ]
  },
  {
   "cell_type": "markdown",
   "id": "46661ee0-835c-458c-88ce-59b9a95b28f7",
   "metadata": {},
   "source": [
    "## Method 1: with String"
   ]
  },
  {
   "cell_type": "code",
   "execution_count": 70,
   "id": "6829c566-569d-423b-8f10-f27911e0ac7b",
   "metadata": {},
   "outputs": [
    {
     "data": {
      "text/plain": [
       "11"
      ]
     },
     "execution_count": 70,
     "metadata": {},
     "output_type": "execute_result"
    }
   ],
   "source": [
    "book.count(\"Chapter\")"
   ]
  },
  {
   "cell_type": "markdown",
   "id": "a4902f41-660f-463e-b265-d43c629db091",
   "metadata": {},
   "source": [
    "## Method 2: with Regular Expressions / regex"
   ]
  },
  {
   "cell_type": "code",
   "execution_count": 71,
   "id": "7fba9144-4cea-4e19-baec-031eeaaac3a6",
   "metadata": {},
   "outputs": [],
   "source": [
    "import re"
   ]
  },
  {
   "cell_type": "code",
   "execution_count": 72,
   "id": "d8bf1525-8209-412f-be1d-32fc3dd959fa",
   "metadata": {},
   "outputs": [
    {
     "data": {
      "text/plain": [
       "['Chapter 1',\n",
       " 'Chapter 2',\n",
       " 'Chapter 3',\n",
       " 'Chapter 4',\n",
       " 'Chapter 5',\n",
       " 'Chapter 6',\n",
       " 'Chapter 7',\n",
       " 'Chapter 8',\n",
       " 'Chapter 9',\n",
       " 'Chapter 10']"
      ]
     },
     "execution_count": 72,
     "metadata": {},
     "output_type": "execute_result"
    }
   ],
   "source": [
    "pattern = re.compile(\"Chapter [0-9]+\")\n",
    "re.findall(pattern, book) # look for 'pattern' in 'book'"
   ]
  },
  {
   "cell_type": "code",
   "execution_count": 73,
   "id": "28b4da28-2095-448f-bfee-07b44293b039",
   "metadata": {},
   "outputs": [],
   "source": [
    "findings = len(re.findall(pattern, book))"
   ]
  },
  {
   "cell_type": "code",
   "execution_count": 74,
   "id": "bca227fa-f659-4d5f-85a9-d83f927e9020",
   "metadata": {},
   "outputs": [
    {
     "data": {
      "text/plain": [
       "10"
      ]
     },
     "execution_count": 74,
     "metadata": {},
     "output_type": "execute_result"
    }
   ],
   "source": [
    "findings"
   ]
  },
  {
   "cell_type": "code",
   "execution_count": 75,
   "id": "93388a91-0470-4a46-8b7d-5967afe7eebb",
   "metadata": {},
   "outputs": [
    {
     "data": {
      "text/plain": [
       "0"
      ]
     },
     "execution_count": 75,
     "metadata": {},
     "output_type": "execute_result"
    }
   ],
   "source": [
    "pattern = re.compile(\"Chapter [a-z]+\")\n",
    "findings = len(re.findall(pattern, book))\n",
    "findings"
   ]
  },
  {
   "cell_type": "markdown",
   "id": "f357f3d0-dba4-447a-908b-91865338706d",
   "metadata": {},
   "source": [
    "# Which are the sentences where the word 'love' was used?"
   ]
  },
  {
   "cell_type": "code",
   "execution_count": 76,
   "id": "b9dc12bc-9c41-4752-87a0-3d3d29c10f70",
   "metadata": {},
   "outputs": [
    {
     "data": {
      "text/plain": [
       "114"
      ]
     },
     "execution_count": 76,
     "metadata": {},
     "output_type": "execute_result"
    }
   ],
   "source": [
    "pattern = re.compile(\"love\")\n",
    "findings = re.findall(pattern, book)\n",
    "len(findings)"
   ]
  },
  {
   "cell_type": "code",
   "execution_count": 77,
   "id": "4249f691-91a9-48a8-afb9-48b65293e6b7",
   "metadata": {},
   "outputs": [
    {
     "data": {
      "text/plain": [
       "['To me, this is the essence of rugby. No other sport gives you such an intense sense of selflessness and unified purpose. I believe this is why rugby players all over the world feel such a passion for the game and such a feeling of brotherhood. As a young man, of course, I could not put these things into words, but I knew, and my teammates knew, that there was something special about the game, and under the guidance of the Christian Brothers we developed a passionate love for the sport that shaped our friendships and our lives. For eight years we played our hearts out for the Christian Brothers—a brotherhood of young boys with Latin names, playing a game with deep Anglo roots under Uruguay’s sunny skies, and proudly wearing the bright green shamrock on our uniforms. The game became so much a part of our lives, in fact, that when we graduated from Stella Maris at the age of sixteen, many of us could not bear the thought that our playing days were over. Our salvation came in the form of the Old Christians Club, a private rugby team formed in 1965 by previous alumni of the Stella Maris rugby program to give Stella Maris ruggers a chance to continue playing the game after our school years ended.',\n",
       " 'There were others—Alexis Hounie, Gastón Costemalle, Daniel Shaw—all of them great players and all of them my friends. But my oldest friend was Guido Magri. He and I had met on my first day at the Stella Maris School—I was eight years old and Guido was one year older—and we had been inseparable ever since. Guido and I grew up together, playing soccer and sharing a love of motorcycles, cars, and auto racing. When I was fifteen we both had mopeds that we had modified in silly ways—removing the mufflers, turn signals, and fenders—and we would ride them to Las Delicias, a famous ice cream parlor in our neighborhood, where we would drool over the girls from the nearby School Sagrado Corazón, hoping to impress them with our souped-up scooters. Guido was a dependable friend, with a good sense of humor and an easy laugh. He was also an outstanding scrum half, as quick and smart as a fox, with good hands and great courage. Under the guidance of the Christian Brothers, both of us grew to love the game of rugby with a consuming passion. As seasons passed we worked hard to improve our skills, and by the time I was fifteen we had each earned a spot on the Stella Maris First XV, the team’s starting lineup. After graduation, both of us went on to join the Old Christians and spent several happy seasons pursuing the high-octane social life of young rugby players. That rowdiness came to an abrupt end for Guido in 1969, when he met and fell in love with the beautiful daughter of a Chilean diplomat. She was now his fiancée, and he was happy to behave himself for her sake.']"
      ]
     },
     "execution_count": 77,
     "metadata": {},
     "output_type": "execute_result"
    }
   ],
   "source": [
    "import re\n",
    "pattern = re.compile(\"[^\\n]+love[^\\n]+\")\n",
    "findings = re.findall(pattern, book)\n",
    "findings[:2]"
   ]
  },
  {
   "cell_type": "markdown",
   "id": "4d2bcdd3-3b9b-4db4-86a5-6f5dc1546aa1",
   "metadata": {},
   "source": [
    "# Extract the chapter titles"
   ]
  },
  {
   "cell_type": "markdown",
   "id": "d224856e-47b1-4a35-8da3-eb796b8a7b4b",
   "metadata": {},
   "source": [
    "## Method 1"
   ]
  },
  {
   "cell_type": "code",
   "execution_count": 78,
   "id": "95da18de-f91c-4895-9b58-e5aee2936e82",
   "metadata": {},
   "outputs": [
    {
     "data": {
      "text/plain": [
       "['Before',\n",
       " 'Everything Precious',\n",
       " 'A Promise',\n",
       " 'Breathe Once More',\n",
       " 'Abandoned',\n",
       " 'Tomb',\n",
       " 'East',\n",
       " 'The Opposite of Death',\n",
       " 'I See a Man',\n",
       " 'After']"
      ]
     },
     "execution_count": 78,
     "metadata": {},
     "output_type": "execute_result"
    }
   ],
   "source": [
    "import re\n",
    "pattern = re.compile(\"[a-zA-Z ,]+\\n\\n\")\n",
    "findings = re.findall(pattern, book)\n",
    "findings = [item.strip(\"\\n\\n\") for item in findings]\n",
    "findings"
   ]
  },
  {
   "cell_type": "markdown",
   "id": "7d6816e1-4061-47a5-a71f-a1d44259a120",
   "metadata": {},
   "source": [
    "## Method 2"
   ]
  },
  {
   "cell_type": "code",
   "execution_count": 79,
   "id": "811e1e09-8c6a-4ce7-9ed7-608b03c6c622",
   "metadata": {},
   "outputs": [
    {
     "data": {
      "text/plain": [
       "['Before',\n",
       " 'Everything Precious',\n",
       " 'A Promise',\n",
       " 'Breathe Once More',\n",
       " 'Abandoned',\n",
       " 'Tomb',\n",
       " 'East',\n",
       " 'The Opposite of Death',\n",
       " 'I See a Man',\n",
       " 'After']"
      ]
     },
     "execution_count": 79,
     "metadata": {},
     "output_type": "execute_result"
    }
   ],
   "source": [
    "import re\n",
    "pattern = re.compile(\"([a-zA-Z ]+)\\n\\n\")\n",
    "findings = re.findall(pattern, book)\n",
    "findings"
   ]
  },
  {
   "cell_type": "markdown",
   "id": "513a98c9-a35f-4dfc-8682-9285282ad624",
   "metadata": {},
   "source": [
    "# What are the most used words?"
   ]
  },
  {
   "cell_type": "code",
   "execution_count": 80,
   "id": "8daa1cb6-f042-42bd-8ca9-3bfec15e8c47",
   "metadata": {},
   "outputs": [
    {
     "data": {
      "text/plain": [
       "86798"
      ]
     },
     "execution_count": 80,
     "metadata": {},
     "output_type": "execute_result"
    }
   ],
   "source": [
    "# book.split()\n",
    "pattern = re.compile(\"[a-zA-Z]+\")\n",
    "findings = re.findall(pattern, book.lower())\n",
    "len(findings)"
   ]
  },
  {
   "cell_type": "code",
   "execution_count": 81,
   "id": "6da1e364-1691-4a93-9887-6aa4efe91793",
   "metadata": {},
   "outputs": [
    {
     "data": {
      "text/plain": [
       "['chapter', 'before', 'it', 'was', 'friday']"
      ]
     },
     "execution_count": 81,
     "metadata": {},
     "output_type": "execute_result"
    }
   ],
   "source": [
    "pattern = re.compile(\"[a-zA-Z]+\")\n",
    "findings = re.findall(pattern, book.lower())\n",
    "findings[:5]"
   ]
  },
  {
   "cell_type": "code",
   "execution_count": 82,
   "id": "e0191ed7-f80e-4b3e-8a6a-35ab12ae237b",
   "metadata": {},
   "outputs": [
    {
     "data": {
      "text/plain": [
       "[(5346, 'the'),\n",
       " (2795, 'and'),\n",
       " (2729, 'i'),\n",
       " (2400, 'to'),\n",
       " (2060, 'of'),\n",
       " (1566, 'a'),\n",
       " (1430, 'was'),\n",
       " (1419, 'in'),\n",
       " (1226, 'we'),\n",
       " (1169, 'my')]"
      ]
     },
     "execution_count": 82,
     "metadata": {},
     "output_type": "execute_result"
    }
   ],
   "source": [
    "d = {}\n",
    "for word in findings:\n",
    "    if word in d.keys():\n",
    "        d[word] = d[word] +1\n",
    "    else:\n",
    "        d[word] = 1\n",
    "\n",
    "d_list = [(value, key) for (key, value) in d.items()]\n",
    "sorted(d_list, reverse=True)[:10]"
   ]
  },
  {
   "cell_type": "markdown",
   "id": "ec54e8d3-bda1-492c-b1bc-3a69d916099f",
   "metadata": {},
   "source": [
    "# Function that finds the occurrence of any word"
   ]
  },
  {
   "cell_type": "code",
   "execution_count": 83,
   "id": "ccdc3bbe-b006-4994-bc30-10d72239fe27",
   "metadata": {},
   "outputs": [],
   "source": [
    "def find(w):\n",
    "    pattern = re.compile(\"[a-zA-Z]+\")\n",
    "    findings = re.findall(pattern, book.lower())\n",
    "    d = {}\n",
    "    for word in findings:\n",
    "        if word in d.keys():\n",
    "            d[word] = d[word] + 1\n",
    "        else:\n",
    "            d[word] = 1\n",
    "    try:\n",
    "        return d[w]\n",
    "    except:\n",
    "        return f'The book does not contain the word \"{w}\"'"
   ]
  },
  {
   "cell_type": "markdown",
   "id": "2fe46c05-423d-43dc-849b-f7d2cf6f1c4b",
   "metadata": {},
   "source": [
    "# Call the function"
   ]
  },
  {
   "cell_type": "code",
   "execution_count": 84,
   "id": "1cd571e1-7aef-4af8-bb11-7fc0f32b6113",
   "metadata": {},
   "outputs": [
    {
     "data": {
      "text/plain": [
       "83"
      ]
     },
     "execution_count": 84,
     "metadata": {},
     "output_type": "execute_result"
    }
   ],
   "source": [
    "find(\"love\")"
   ]
  },
  {
   "cell_type": "code",
   "execution_count": 85,
   "id": "01203ef6-0341-48fc-933e-0ad94f88547e",
   "metadata": {},
   "outputs": [
    {
     "data": {
      "text/plain": [
       "'The book does not contain the word \"hate\"'"
      ]
     },
     "execution_count": 85,
     "metadata": {},
     "output_type": "execute_result"
    }
   ],
   "source": [
    "find(\"hate\")"
   ]
  }
 ],
 "metadata": {
  "kernelspec": {
   "display_name": "Python 3 (ipykernel)",
   "language": "python",
   "name": "python3"
  },
  "language_info": {
   "codemirror_mode": {
    "name": "ipython",
    "version": 3
   },
   "file_extension": ".py",
   "mimetype": "text/x-python",
   "name": "python",
   "nbconvert_exporter": "python",
   "pygments_lexer": "ipython3",
   "version": "3.9.13"
  }
 },
 "nbformat": 4,
 "nbformat_minor": 5
}
