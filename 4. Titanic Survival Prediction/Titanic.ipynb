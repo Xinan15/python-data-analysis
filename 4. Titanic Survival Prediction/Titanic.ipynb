{
 "cells": [
  {
   "cell_type": "markdown",
   "id": "742fa631-d37e-448d-b457-ead3be62f786",
   "metadata": {},
   "source": [
    "# Outline\n",
    "### In this project, I will:\n",
    "- Import the dataset\n",
    "- Conduct exploratory data analysis (EDA)\n",
    "- Clean the data\n",
    "- Feature engineering and selection\n",
    "- Build a simple prediction model\n",
    "- Evaluate the model"
   ]
  },
  {
   "cell_type": "markdown",
   "id": "7461934d-ea5f-4a2f-b492-9374ae48d2ce",
   "metadata": {},
   "source": [
    "## 1. Import the Data"
   ]
  },
  {
   "cell_type": "code",
   "execution_count": 1,
   "id": "1e327383-d491-4716-b305-71a47bf33fe0",
   "metadata": {},
   "outputs": [],
   "source": [
    "import pandas as pd\n",
    "\n",
    "train_data = pd.read_csv('Data-set/train.csv')\n",
    "test_data = pd.read_csv('Data-set/test.csv')"
   ]
  },
  {
   "cell_type": "markdown",
   "id": "2311fa1f-e141-4dac-81dd-c823a6ad519a",
   "metadata": {},
   "source": [
    "## 2. Exploratory Data Analysis (EDA)\n",
    "\n",
    "- This includes understanding the data types for each column, investigating missing values, and visualizing the data."
   ]
  },
  {
   "cell_type": "code",
   "execution_count": 2,
   "id": "374dcd3c-d201-4461-aebf-a739bb323975",
   "metadata": {},
   "outputs": [
    {
     "name": "stdout",
     "output_type": "stream",
     "text": [
      "<class 'pandas.core.frame.DataFrame'>\n",
      "RangeIndex: 891 entries, 0 to 890\n",
      "Data columns (total 12 columns):\n",
      " #   Column       Non-Null Count  Dtype  \n",
      "---  ------       --------------  -----  \n",
      " 0   PassengerId  891 non-null    int64  \n",
      " 1   Survived     891 non-null    int64  \n",
      " 2   Pclass       891 non-null    int64  \n",
      " 3   Name         891 non-null    object \n",
      " 4   Sex          891 non-null    object \n",
      " 5   Age          714 non-null    float64\n",
      " 6   SibSp        891 non-null    int64  \n",
      " 7   Parch        891 non-null    int64  \n",
      " 8   Ticket       891 non-null    object \n",
      " 9   Fare         891 non-null    float64\n",
      " 10  Cabin        204 non-null    object \n",
      " 11  Embarked     889 non-null    object \n",
      "dtypes: float64(2), int64(5), object(5)\n",
      "memory usage: 83.7+ KB\n"
     ]
    }
   ],
   "source": [
    "# Get a quick overview of the data\n",
    "train_data.info()"
   ]
  },
  {
   "cell_type": "code",
   "execution_count": 3,
   "id": "6bfa0218-491b-4321-b2f3-135e085550d1",
   "metadata": {
    "tags": []
   },
   "outputs": [],
   "source": [
    "# Use seaborn for data visualization\n",
    "import seaborn as sns\n",
    "import matplotlib.pyplot as plt"
   ]
  },
  {
   "cell_type": "code",
   "execution_count": 4,
   "id": "dca5bc9e-6487-4548-b5f4-dd7929131fc0",
   "metadata": {},
   "outputs": [
    {
     "data": {
      "image/png": "[encoded data removed]",
      "text/plain": [
       "<Figure size 640x480 with 1 Axes>"
      ]
     },
     "metadata": {},
     "output_type": "display_data"
    }
   ],
   "source": [
    "# Plot a histogram of the 'Age' column\n",
    "sns.histplot(train_data['Age'].dropna(), kde=False, bins=30)\n",
    "plt.show()"
   ]
  },
  {
   "cell_type": "markdown",
   "id": "905802b5-9a51-4ecb-b0fc-fb56b4027e94",
   "metadata": {},
   "source": [
    "## 3. Data Cleaning\n",
    "- Data cleaning can involve a variety of processes, including handling missing values, removing duplicates, and changing data types."
   ]
  },
  {
   "cell_type": "code",
   "execution_count": 5,
   "id": "4b5d45eb-189c-46d4-bcc8-a1adb62e3a81",
   "metadata": {},
   "outputs": [],
   "source": [
    "# Fill missing age data with the median age\n",
    "train_data['Age'].fillna(train_data['Age'].median(), inplace=True)"
   ]
  },
  {
   "cell_type": "code",
   "execution_count": 6,
   "id": "01c4eb01-be9a-453a-8040-8f5a0a11e126",
   "metadata": {},
   "outputs": [],
   "source": [
    "# Convert 'Sex' to a binary indicator variable (0 = male, 1 = female)\n",
    "train_data['Sex'] = train_data['Sex'].map({'male': 0, 'female': 1})"
   ]
  },
  {
   "cell_type": "markdown",
   "id": "30339aea-a2fd-41d0-8c4e-f60aedb1d7ff",
   "metadata": {},
   "source": [
    "## 4. Feature Engineering and Selection\n",
    "- In this stage, we transform existing features or create new ones to improve our model's performance."
   ]
  },
  {
   "cell_type": "code",
   "execution_count": 7,
   "id": "629b7d44-521a-41c1-bdc3-3eebe827c6a1",
   "metadata": {},
   "outputs": [],
   "source": [
    "# Create a 'FamilySize' feature\n",
    "train_data['FamilySize'] = train_data['SibSp'] + train_data['Parch'] + 1"
   ]
  },
  {
   "cell_type": "markdown",
   "id": "34dfe8be-bf60-40c5-b913-021a9b68fdad",
   "metadata": {},
   "source": [
    "# 5. Model Building\n",
    "- Let's use a simple logistic regression model from scikit-learn library for this task."
   ]
  },
  {
   "cell_type": "code",
   "execution_count": 8,
   "id": "6e5e1cdd-bdae-43f1-b580-7357e9720633",
   "metadata": {},
   "outputs": [],
   "source": [
    "from sklearn.model_selection import train_test_split\n",
    "from sklearn.linear_model import LogisticRegression"
   ]
  },
  {
   "cell_type": "code",
   "execution_count": 9,
   "id": "9b601c1c-3bbb-439e-9c93-9abf232acaa5",
   "metadata": {},
   "outputs": [],
   "source": [
    "# Define our features and target\n",
    "features = ['Pclass', 'Sex', 'Age', 'FamilySize']\n",
    "target = 'Survived'"
   ]
  },
  {
   "cell_type": "code",
   "execution_count": 10,
   "id": "c719763e-c8a4-4c8d-9eb4-ae719f841e04",
   "metadata": {},
   "outputs": [],
   "source": [
    "# Split our data\n",
    "X_train, X_test, y_train, y_test = train_test_split(\n",
    "    train_data[features], \n",
    "    train_data[target], \n",
    "    test_size=0.2, \n",
    "    random_state=42\n",
    ")"
   ]
  },
  {
   "cell_type": "code",
   "execution_count": 11,
   "id": "3ef08a56-26a7-4aa4-80f4-39c156e8b361",
   "metadata": {},
   "outputs": [],
   "source": [
    "# Initialize our classifier\n",
    "clf = LogisticRegression()"
   ]
  },
  {
   "cell_type": "code",
   "execution_count": 12,
   "id": "ec12f9a8-c90f-46ea-86e5-c08ae1ee0f7e",
   "metadata": {},
   "outputs": [
    {
     "data": {
      "text/plain": [
       "LogisticRegression()"
      ]
     },
     "execution_count": 12,
     "metadata": {},
     "output_type": "execute_result"
    }
   ],
   "source": [
    "# Fit our classifier\n",
    "clf.fit(X_train, y_train)"
   ]
  },
  {
   "cell_type": "markdown",
   "id": "58d806be-e2b6-4c24-867c-17b71372a023",
   "metadata": {},
   "source": [
    "## 6. Model Evaluation\n",
    "- Finally, we'll want to evaluate how well our model is performing."
   ]
  },
  {
   "cell_type": "code",
   "execution_count": 13,
   "id": "6f2b83bd-a7c7-45b9-9f98-ef30aa5c293f",
   "metadata": {},
   "outputs": [],
   "source": [
    "from sklearn.metrics import accuracy_score"
   ]
  },
  {
   "cell_type": "code",
   "execution_count": 14,
   "id": "57af0bf0-637d-4798-b46c-f261c3ffd097",
   "metadata": {},
   "outputs": [],
   "source": [
    "# Make predictions\n",
    "y_pred = clf.predict(X_test)"
   ]
  },
  {
   "cell_type": "code",
   "execution_count": 15,
   "id": "2befb604-a5ce-43e2-80e9-30d0f1c8491b",
   "metadata": {},
   "outputs": [
    {
     "name": "stdout",
     "output_type": "stream",
     "text": [
      "Model Accuracy:  0.8044692737430168\n"
     ]
    }
   ],
   "source": [
    "# Check the accuracy of the model\n",
    "accuracy = accuracy_score(y_test, y_pred)\n",
    "print(\"Model Accuracy: \", accuracy)"
   ]
  }
 ],
 "metadata": {
  "kernelspec": {
   "display_name": "Python 3 (ipykernel)",
   "language": "python",
   "name": "python3"
  },
  "language_info": {
   "codemirror_mode": {
    "name": "ipython",
    "version": 3
   },
   "file_extension": ".py",
   "mimetype": "text/x-python",
   "name": "python",
   "nbconvert_exporter": "python",
   "pygments_lexer": "ipython3",
   "version": "3.9.13"
  }
 },
 "nbformat": 4,
 "nbformat_minor": 5
}
